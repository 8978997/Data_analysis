{
 "cells": [
  {
   "cell_type": "code",
   "execution_count": null,
   "id": "8af7a84a",
   "metadata": {},
   "outputs": [],
   "source": [
    "from statistics import variance"
   ]
  },
  {
   "cell_type": "code",
   "execution_count": 2,
   "id": "6061fb11",
   "metadata": {},
   "outputs": [],
   "source": [
    "import pandas as pd \n",
    "import seaborn as sns\n",
    "import matplotlib.pyplot as plt\n",
    "import statistics\n",
    "import numpy as np\n",
    "import math\n",
    "from scipy.stats.mstats import gmean\n",
    "from fractions import Fraction as fr\n",
    "from statistics import variance\n"
   ]
  },
  {
   "cell_type": "code",
   "execution_count": 20,
   "id": "7d2f3db5",
   "metadata": {
    "scrolled": true
   },
   "outputs": [
    {
     "data": {
      "text/html": [
       "<div>\n",
       "<style scoped>\n",
       "    .dataframe tbody tr th:only-of-type {\n",
       "        vertical-align: middle;\n",
       "    }\n",
       "\n",
       "    .dataframe tbody tr th {\n",
       "        vertical-align: top;\n",
       "    }\n",
       "\n",
       "    .dataframe thead th {\n",
       "        text-align: right;\n",
       "    }\n",
       "</style>\n",
       "<table border=\"1\" class=\"dataframe\">\n",
       "  <thead>\n",
       "    <tr style=\"text-align: right;\">\n",
       "      <th></th>\n",
       "      <th>Region</th>\n",
       "      <th>Total deaths</th>\n",
       "      <th>Male_deaths</th>\n",
       "      <th>Female_deaths</th>\n",
       "      <th>children_deaths</th>\n",
       "      <th>total_injured</th>\n",
       "      <th>Male_injured</th>\n",
       "      <th>Female_injured</th>\n",
       "      <th>Children_inured</th>\n",
       "      <th>Roads_damaged(km)</th>\n",
       "      <th>Bridges damaged</th>\n",
       "      <th>Total_houses_damaged</th>\n",
       "      <th>livestock_damaged</th>\n",
       "      <th>Affected population</th>\n",
       "    </tr>\n",
       "  </thead>\n",
       "  <tbody>\n",
       "    <tr>\n",
       "      <th>0</th>\n",
       "      <td>AJ&amp;K</td>\n",
       "      <td>48</td>\n",
       "      <td>31</td>\n",
       "      <td>17</td>\n",
       "      <td>0</td>\n",
       "      <td>24</td>\n",
       "      <td>15</td>\n",
       "      <td>9</td>\n",
       "      <td>0</td>\n",
       "      <td>0</td>\n",
       "      <td>0</td>\n",
       "      <td>548</td>\n",
       "      <td>792</td>\n",
       "      <td>53700</td>\n",
       "    </tr>\n",
       "    <tr>\n",
       "      <th>1</th>\n",
       "      <td>Balochistan</td>\n",
       "      <td>299</td>\n",
       "      <td>136</td>\n",
       "      <td>73</td>\n",
       "      <td>90</td>\n",
       "      <td>181</td>\n",
       "      <td>92</td>\n",
       "      <td>40</td>\n",
       "      <td>49</td>\n",
       "      <td>1850</td>\n",
       "      <td>22</td>\n",
       "      <td>65997</td>\n",
       "      <td>500000</td>\n",
       "      <td>9182616</td>\n",
       "    </tr>\n",
       "    <tr>\n",
       "      <th>2</th>\n",
       "      <td>GB</td>\n",
       "      <td>22</td>\n",
       "      <td>5</td>\n",
       "      <td>11</td>\n",
       "      <td>6</td>\n",
       "      <td>6</td>\n",
       "      <td>3</td>\n",
       "      <td>0</td>\n",
       "      <td>3</td>\n",
       "      <td>16</td>\n",
       "      <td>65</td>\n",
       "      <td>1211</td>\n",
       "      <td>0</td>\n",
       "      <td>51500</td>\n",
       "    </tr>\n",
       "    <tr>\n",
       "      <th>3</th>\n",
       "      <td>KP</td>\n",
       "      <td>306</td>\n",
       "      <td>149</td>\n",
       "      <td>41</td>\n",
       "      <td>116</td>\n",
       "      <td>369</td>\n",
       "      <td>156</td>\n",
       "      <td>79</td>\n",
       "      <td>134</td>\n",
       "      <td>1575</td>\n",
       "      <td>107</td>\n",
       "      <td>91463</td>\n",
       "      <td>21328</td>\n",
       "      <td>4350490</td>\n",
       "    </tr>\n",
       "    <tr>\n",
       "      <th>4</th>\n",
       "      <td>Punjab</td>\n",
       "      <td>191</td>\n",
       "      <td>94</td>\n",
       "      <td>47</td>\n",
       "      <td>50</td>\n",
       "      <td>3858</td>\n",
       "      <td>2173</td>\n",
       "      <td>113</td>\n",
       "      <td>572</td>\n",
       "      <td>896</td>\n",
       "      <td>16</td>\n",
       "      <td>66971</td>\n",
       "      <td>205106</td>\n",
       "      <td>4844253</td>\n",
       "    </tr>\n",
       "    <tr>\n",
       "      <th>5</th>\n",
       "      <td>Sindh</td>\n",
       "      <td>678</td>\n",
       "      <td>262</td>\n",
       "      <td>126</td>\n",
       "      <td>290</td>\n",
       "      <td>8422</td>\n",
       "      <td>2954</td>\n",
       "      <td>2211</td>\n",
       "      <td>3247</td>\n",
       "      <td>8398</td>\n",
       "      <td>165</td>\n",
       "      <td>1717788</td>\n",
       "      <td>216683</td>\n",
       "      <td>14563770</td>\n",
       "    </tr>\n",
       "  </tbody>\n",
       "</table>\n",
       "</div>"
      ],
      "text/plain": [
       "        Region  Total deaths  Male_deaths  Female_deaths  children_deaths  \\\n",
       "0         AJ&K            48           31             17                0   \n",
       "1  Balochistan           299          136             73               90   \n",
       "2           GB            22            5             11                6   \n",
       "3           KP           306          149             41              116   \n",
       "4       Punjab           191           94             47               50   \n",
       "5        Sindh           678          262            126              290   \n",
       "\n",
       "   total_injured  Male_injured  Female_injured  Children_inured  \\\n",
       "0             24            15               9                0   \n",
       "1            181            92              40               49   \n",
       "2              6             3               0                3   \n",
       "3            369           156              79              134   \n",
       "4           3858          2173             113              572   \n",
       "5           8422          2954            2211             3247   \n",
       "\n",
       "   Roads_damaged(km)  Bridges damaged  Total_houses_damaged  \\\n",
       "0                  0                0                   548   \n",
       "1               1850               22                 65997   \n",
       "2                 16               65                  1211   \n",
       "3               1575              107                 91463   \n",
       "4                896               16                 66971   \n",
       "5               8398              165               1717788   \n",
       "\n",
       "   livestock_damaged  Affected population  \n",
       "0                792                53700  \n",
       "1             500000              9182616  \n",
       "2                  0                51500  \n",
       "3              21328              4350490  \n",
       "4             205106              4844253  \n",
       "5             216683             14563770  "
      ]
     },
     "execution_count": 20,
     "metadata": {},
     "output_type": "execute_result"
    }
   ],
   "source": [
    "file = pd.read_excel(r\"C:\\Users\\Lenovo\\Desktop\\floods_data.xlsx\")\n",
    "file "
   ]
  },
  {
   "cell_type": "markdown",
   "id": "c4e04b4a",
   "metadata": {},
   "source": [
    "# Pie chart chart showing percentage of deaths"
   ]
  },
  {
   "cell_type": "code",
   "execution_count": 75,
   "id": "d8a4ef91",
   "metadata": {
    "scrolled": false
   },
   "outputs": [
    {
     "data": {
      "image/png": "[encoded data removed]",
      "text/plain": [
       "<Figure size 360x720 with 1 Axes>"
      ]
     },
     "metadata": {},
     "output_type": "display_data"
    }
   ],
   "source": [
    "plt.figure(figsize=((5,10)))\n",
    "plt.pie(file2[\"Total deaths\"],labels = file[\"Region\"], autopct='%1.1f%%')\n",
    "plt.title(\"percentage of deaths across the country\")\n",
    "plt.show()"
   ]
  },
  {
   "cell_type": "markdown",
   "id": "c7ab2193",
   "metadata": {},
   "source": [
    "# Population Affected"
   ]
  },
  {
   "cell_type": "code",
   "execution_count": 6,
   "id": "2a58ff74",
   "metadata": {
    "scrolled": true
   },
   "outputs": [
    {
     "data": {
      "image/png": "[encoded data removed]",
      "text/plain": [
       "<Figure size 360x720 with 1 Axes>"
      ]
     },
     "metadata": {},
     "output_type": "display_data"
    }
   ],
   "source": [
    "plt.figure(figsize=((5,10)))\n",
    "plt.pie(file2[\"Affected population\"],labels = file[\"Region\"], autopct='%1.1f%%')\n",
    "plt.title(\"Percentage of effected population\")\n",
    "plt.show()"
   ]
  },
  {
   "cell_type": "code",
   "execution_count": 76,
   "id": "0bf4a633",
   "metadata": {
    "scrolled": true
   },
   "outputs": [
    {
     "data": {
      "text/html": [
       "<div>\n",
       "<style scoped>\n",
       "    .dataframe tbody tr th:only-of-type {\n",
       "        vertical-align: middle;\n",
       "    }\n",
       "\n",
       "    .dataframe tbody tr th {\n",
       "        vertical-align: top;\n",
       "    }\n",
       "\n",
       "    .dataframe thead th {\n",
       "        text-align: right;\n",
       "    }\n",
       "</style>\n",
       "<table border=\"1\" class=\"dataframe\">\n",
       "  <thead>\n",
       "    <tr style=\"text-align: right;\">\n",
       "      <th></th>\n",
       "      <th>Male_deaths</th>\n",
       "      <th>Female_deaths</th>\n",
       "      <th>children_deaths</th>\n",
       "    </tr>\n",
       "    <tr>\n",
       "      <th>Region</th>\n",
       "      <th></th>\n",
       "      <th></th>\n",
       "      <th></th>\n",
       "    </tr>\n",
       "  </thead>\n",
       "  <tbody>\n",
       "    <tr>\n",
       "      <th>AJ&amp;K</th>\n",
       "      <td>31</td>\n",
       "      <td>17</td>\n",
       "      <td>0</td>\n",
       "    </tr>\n",
       "    <tr>\n",
       "      <th>Balochistan</th>\n",
       "      <td>136</td>\n",
       "      <td>73</td>\n",
       "      <td>90</td>\n",
       "    </tr>\n",
       "    <tr>\n",
       "      <th>GB</th>\n",
       "      <td>5</td>\n",
       "      <td>11</td>\n",
       "      <td>6</td>\n",
       "    </tr>\n",
       "    <tr>\n",
       "      <th>KP</th>\n",
       "      <td>149</td>\n",
       "      <td>41</td>\n",
       "      <td>116</td>\n",
       "    </tr>\n",
       "    <tr>\n",
       "      <th>Punjab</th>\n",
       "      <td>94</td>\n",
       "      <td>47</td>\n",
       "      <td>50</td>\n",
       "    </tr>\n",
       "    <tr>\n",
       "      <th>Sindh</th>\n",
       "      <td>262</td>\n",
       "      <td>126</td>\n",
       "      <td>290</td>\n",
       "    </tr>\n",
       "  </tbody>\n",
       "</table>\n",
       "</div>"
      ],
      "text/plain": [
       "             Male_deaths  Female_deaths  children_deaths\n",
       "Region                                                  \n",
       "AJ&K                  31             17                0\n",
       "Balochistan          136             73               90\n",
       "GB                     5             11                6\n",
       "KP                   149             41              116\n",
       "Punjab                94             47               50\n",
       "Sindh                262            126              290"
      ]
     },
     "execution_count": 76,
     "metadata": {},
     "output_type": "execute_result"
    }
   ],
   "source": [
    "file2 = file2[[\"Male_deaths\",\"Female_deaths\",\"children_deaths\"]]\n",
    "file2"
   ]
  },
  {
   "cell_type": "markdown",
   "id": "aae07498",
   "metadata": {},
   "source": [
    "# Bar chart"
   ]
  },
  {
   "cell_type": "code",
   "execution_count": 77,
   "id": "0047a467",
   "metadata": {
    "scrolled": false
   },
   "outputs": [
    {
     "data": {
      "image/png": "[encoded data removed]",
      "text/plain": [
       "<Figure size 792x432 with 1 Axes>"
      ]
     },
     "metadata": {
      "needs_background": "light"
     },
     "output_type": "display_data"
    }
   ],
   "source": [
    "file2.plot(kind = 'bar', stacked=True, figsize = ((11,6)))\n",
    "plt.xticks(rotation=False)\n",
    "plt.show()"
   ]
  },
  {
   "cell_type": "code",
   "execution_count": 80,
   "id": "b6c80716",
   "metadata": {
    "scrolled": true
   },
   "outputs": [
    {
     "data": {
      "text/html": [
       "<div>\n",
       "<style scoped>\n",
       "    .dataframe tbody tr th:only-of-type {\n",
       "        vertical-align: middle;\n",
       "    }\n",
       "\n",
       "    .dataframe tbody tr th {\n",
       "        vertical-align: top;\n",
       "    }\n",
       "\n",
       "    .dataframe thead th {\n",
       "        text-align: right;\n",
       "    }\n",
       "</style>\n",
       "<table border=\"1\" class=\"dataframe\">\n",
       "  <thead>\n",
       "    <tr style=\"text-align: right;\">\n",
       "      <th></th>\n",
       "      <th>Male_injured</th>\n",
       "      <th>Female_injured</th>\n",
       "      <th>Children_inured</th>\n",
       "    </tr>\n",
       "    <tr>\n",
       "      <th>Region</th>\n",
       "      <th></th>\n",
       "      <th></th>\n",
       "      <th></th>\n",
       "    </tr>\n",
       "  </thead>\n",
       "  <tbody>\n",
       "    <tr>\n",
       "      <th>AJ&amp;K</th>\n",
       "      <td>15</td>\n",
       "      <td>9</td>\n",
       "      <td>0</td>\n",
       "    </tr>\n",
       "    <tr>\n",
       "      <th>Balochistan</th>\n",
       "      <td>92</td>\n",
       "      <td>40</td>\n",
       "      <td>49</td>\n",
       "    </tr>\n",
       "    <tr>\n",
       "      <th>GB</th>\n",
       "      <td>3</td>\n",
       "      <td>0</td>\n",
       "      <td>3</td>\n",
       "    </tr>\n",
       "    <tr>\n",
       "      <th>KP</th>\n",
       "      <td>156</td>\n",
       "      <td>79</td>\n",
       "      <td>134</td>\n",
       "    </tr>\n",
       "    <tr>\n",
       "      <th>Punjab</th>\n",
       "      <td>2173</td>\n",
       "      <td>113</td>\n",
       "      <td>572</td>\n",
       "    </tr>\n",
       "    <tr>\n",
       "      <th>Sindh</th>\n",
       "      <td>2954</td>\n",
       "      <td>2211</td>\n",
       "      <td>3247</td>\n",
       "    </tr>\n",
       "  </tbody>\n",
       "</table>\n",
       "</div>"
      ],
      "text/plain": [
       "             Male_injured  Female_injured  Children_inured\n",
       "Region                                                    \n",
       "AJ&K                   15               9                0\n",
       "Balochistan            92              40               49\n",
       "GB                      3               0                3\n",
       "KP                    156              79              134\n",
       "Punjab               2173             113              572\n",
       "Sindh                2954            2211             3247"
      ]
     },
     "execution_count": 80,
     "metadata": {},
     "output_type": "execute_result"
    }
   ],
   "source": [
    "file3 = file2[[\"Male_injured\",\"Female_injured\",\"Children_inured\"]]\n",
    "file3"
   ]
  },
  {
   "cell_type": "markdown",
   "id": "5db01251",
   "metadata": {},
   "source": [
    "# Bar chart"
   ]
  },
  {
   "cell_type": "code",
   "execution_count": 56,
   "id": "c7abe09e",
   "metadata": {
    "scrolled": false
   },
   "outputs": [
    {
     "data": {
      "image/png": "[encoded data removed]",
      "text/plain": [
       "<Figure size 792x432 with 1 Axes>"
      ]
     },
     "metadata": {
      "needs_background": "light"
     },
     "output_type": "display_data"
    }
   ],
   "source": [
    "file3.plot(kind = 'bar', stacked=True, figsize = ((11,6)))\n",
    "plt.xticks(rotation=False)\n",
    "plt.show()"
   ]
  },
  {
   "cell_type": "markdown",
   "id": "779e4401",
   "metadata": {},
   "source": [
    "# scatter plot"
   ]
  },
  {
   "cell_type": "code",
   "execution_count": 67,
   "id": "1caccd6e",
   "metadata": {
    "scrolled": false
   },
   "outputs": [
    {
     "data": {
      "image/png": "[encoded data removed]",
      "text/plain": [
       "<Figure size 432x288 with 1 Axes>"
      ]
     },
     "metadata": {
      "needs_background": "light"
     },
     "output_type": "display_data"
    }
   ],
   "source": [
    "girls_grades = [89, 90, 70, 89, 100, 80, 90, 100, 80, 34]\n",
    "boys_grades = [30, 29, 49, 48, 100, 48, 38, 45, 20, 30]\n",
    "grades_range = [10, 20, 30, 40, 50, 60, 70, 80, 90, 100]\n",
    "\n",
    "fig=plt.figure()\n",
    "ax=fig.add_axes([0,0,1,1])\n",
    "\n",
    "ax.scatter(grades_range, girls_grades, color='r')\n",
    "ax.scatter(grades_range, boys_grades, color='b')\n",
    "\n",
    "ax.set_xlabel('Grades Range')\n",
    "ax.set_ylabel('Grades Scored')\n",
    "ax.set_title('scatter plot')\n",
    "plt.show()"
   ]
  },
  {
   "cell_type": "markdown",
   "id": "8b06d144",
   "metadata": {},
   "source": [
    "# X , Y"
   ]
  },
  {
   "cell_type": "code",
   "execution_count": 70,
   "id": "d0a48e81",
   "metadata": {},
   "outputs": [
    {
     "data": {
      "image/png": "[encoded data removed]",
      "text/plain": [
       "<Figure size 432x288 with 1 Axes>"
      ]
     },
     "metadata": {
      "needs_background": "light"
     },
     "output_type": "display_data"
    }
   ],
   "source": [
    "x=np.arange(0, math.pi*2, 0.05)\n",
    "y=np.sin(x)\n",
    "plt.plot(x,y)\n",
    "plt.xlabel(\"angle\")\n",
    "plt.ylabel(\"sine\")\n",
    "plt.title('sine wave')\n",
    "plt.show()"
   ]
  },
  {
   "cell_type": "markdown",
   "id": "a65637b7",
   "metadata": {},
   "source": [
    "# Histogram"
   ]
  },
  {
   "cell_type": "code",
   "execution_count": 3,
   "id": "ed590b0a",
   "metadata": {},
   "outputs": [
    {
     "data": {
      "image/png": "[encoded data removed]",
      "text/plain": [
       "<Figure size 648x432 with 1 Axes>"
      ]
     },
     "metadata": {
      "needs_background": "light"
     },
     "output_type": "display_data"
    }
   ],
   "source": [
    "a = np.array([22, 87, 5, 43, 56,73, 55, 54, 11,20, 51, 5, 79, 31,27])\n",
    "fig, ax = plt.subplots(figsize =(9, 6))\n",
    "ax.hist(a, bins = [0, 25, 50, 75, 100])\n",
    "plt.show()\n"
   ]
  },
  {
   "cell_type": "markdown",
   "id": "52d61331",
   "metadata": {},
   "source": [
    "# Mean"
   ]
  },
  {
   "cell_type": "code",
   "execution_count": 81,
   "id": "de7d95de",
   "metadata": {},
   "outputs": [
    {
     "name": "stdout",
     "output_type": "stream",
     "text": [
      "Mean is : 4.428571428571429\n"
     ]
    }
   ],
   "source": [
    "data1 = [1, 3, 4, 5, 7, 9, 2]\n",
    "x = statistics.mean(data1)\n",
    "print(\"Mean is :\", x)\n"
   ]
  },
  {
   "cell_type": "markdown",
   "id": "f4254420",
   "metadata": {},
   "source": [
    "# Mode"
   ]
  },
  {
   "cell_type": "code",
   "execution_count": 82,
   "id": "3e9351f4",
   "metadata": {},
   "outputs": [
    {
     "name": "stdout",
     "output_type": "stream",
     "text": [
      "Mode of given data set is 4\n"
     ]
    }
   ],
   "source": [
    "set1 =[1, 2, 3, 3, 4, 4, 4, 5, 5, 6]\n",
    "print(\"Mode of given data set is % s\" % (statistics.mode(set1)))\n"
   ]
  },
  {
   "cell_type": "markdown",
   "id": "81bdeb9e",
   "metadata": {},
   "source": [
    "# Medain"
   ]
  },
  {
   "cell_type": "code",
   "execution_count": 87,
   "id": "eb00ff0f",
   "metadata": {},
   "outputs": [
    {
     "name": "stdout",
     "output_type": "stream",
     "text": [
      "Median of data-set is : 3.5 \n"
     ]
    }
   ],
   "source": [
    "data1 = [2, -2, 3, 6, 9, 4, 5, -1]\n",
    "\n",
    "print(\"Median of data-set is : % s \"% (statistics.median(data1)))\n"
   ]
  },
  {
   "cell_type": "markdown",
   "id": "9e2dc7bf",
   "metadata": {},
   "source": [
    "# Geometric"
   ]
  },
  {
   "cell_type": "code",
   "execution_count": 85,
   "id": "90ce7c6e",
   "metadata": {},
   "outputs": [
    {
     "name": "stdout",
     "output_type": "stream",
     "text": [
      "Geometric Mean is : 4.326748710922226\n"
     ]
    }
   ],
   "source": [
    "arr1 = gmean([1, 3, 27])\n",
    "print(\"Geometric Mean is :\", arr1)\n"
   ]
  },
  {
   "cell_type": "markdown",
   "id": "ddf39e6a",
   "metadata": {},
   "source": [
    "# Harmonic Mean"
   ]
  },
  {
   "cell_type": "code",
   "execution_count": 86,
   "id": "e31b2f7d",
   "metadata": {},
   "outputs": [
    {
     "name": "stdout",
     "output_type": "stream",
     "text": [
      "Harmonic Mean is 2.797513321492007 \n"
     ]
    }
   ],
   "source": [
    "data = [1, 3, 5, 7, 9]\n",
    "\n",
    "print(\"Harmonic Mean is % s \" % (statistics.harmonic_mean(data)))\n"
   ]
  },
  {
   "cell_type": "markdown",
   "id": "5d239d7c",
   "metadata": {},
   "source": [
    "# Percentile"
   ]
  },
  {
   "cell_type": "code",
   "execution_count": 88,
   "id": "124bee1f",
   "metadata": {},
   "outputs": [
    {
     "name": "stdout",
     "output_type": "stream",
     "text": [
      "arr :  [20, 2, 7, 1, 34]\n",
      "50th percentile of arr :  7.0\n",
      "25th percentile of arr :  2.0\n",
      "75th percentile of arr :  20.0\n"
     ]
    }
   ],
   "source": [
    "arr = [20, 2, 7, 1, 34]\n",
    "print(\"arr : \", arr)\n",
    "print(\"50th percentile of arr : \",np.percentile(arr, 50))\n",
    "print(\"25th percentile of arr : \",np.percentile(arr, 25))\n",
    "print(\"75th percentile of arr : \",np.percentile(arr, 75))\n"
   ]
  },
  {
   "cell_type": "markdown",
   "id": "e3b82af5",
   "metadata": {},
   "source": [
    "# Quantile"
   ]
  },
  {
   "cell_type": "code",
   "execution_count": 89,
   "id": "6cde5baa",
   "metadata": {},
   "outputs": [
    {
     "data": {
      "text/plain": [
       "A    1.8\n",
       "B    2.8\n",
       "C    2.0\n",
       "D    3.8\n",
       "Name: 0.2, dtype: float64"
      ]
     },
     "execution_count": 89,
     "metadata": {},
     "output_type": "execute_result"
    }
   ],
   "source": [
    "df = pd.DataFrame({\"A\":[1, 5, 3, 4, 2],\n",
    "                   \"B\":[3, 2, 4, 3, 4],\n",
    "                   \"C\":[2, 2, 7, 3, 4],\n",
    "                    \"D\":[4, 3, 6, 12, 7]})\n",
    "df\n",
    "df.quantile(.2, axis = 0)\n"
   ]
  },
  {
   "cell_type": "markdown",
   "id": "6ebdf32a",
   "metadata": {},
   "source": [
    "# Variance"
   ]
  },
  {
   "cell_type": "code",
   "execution_count": 95,
   "id": "ba5072fa",
   "metadata": {},
   "outputs": [
    {
     "name": "stdout",
     "output_type": "stream",
     "text": [
      "Variance of Sample-1 is = 15.80952380952381 \n",
      "Variance of Sample-2 is = 3.5 \n",
      "Variance of Sample-3 is = 61.125 \n",
      "Variance of Sample-4 is = 1/45 \n",
      "Variance of Sample-5 is = 0.17613000000000006 \n"
     ]
    }
   ],
   "source": [
    "sample1 = (1, 2, 5, 4, 8, 9, 12)\n",
    "sample2 = (-2, -4, -3, -1, -5, -6)\n",
    "sample3 = (-9, -1, -0, 2, 1, 3, 4, 19)\n",
    "sample4 = (fr(1, 2), fr(2, 3), fr(3, 4),fr(5, 6), fr(7, 8))\n",
    "sample5 = (1.23, 1.45, 2.1, 2.2, 1.9)\n",
    "\n",
    "print(\"Variance of Sample-1 is = % s \" %(variance(sample1)))\n",
    "print(\"Variance of Sample-2 is = % s \" %(variance(sample2)))\n",
    "print(\"Variance of Sample-3 is = % s \" %(variance(sample3)))\n",
    "print(\"Variance of Sample-4 is = % s \" %(variance(sample4)))\n",
    "print(\"Variance of Sample-5 is = % s \" %(variance(sample5)))\n"
   ]
  },
  {
   "cell_type": "markdown",
   "id": "9a03a51e",
   "metadata": {},
   "source": [
    "# Standard Deviation"
   ]
  },
  {
   "cell_type": "code",
   "execution_count": 101,
   "id": "6f7ce260",
   "metadata": {},
   "outputs": [
    {
     "name": "stdout",
     "output_type": "stream",
     "text": [
      "130.55238095238093\n",
      "11.42595208078438\n"
     ]
    }
   ],
   "source": [
    "sdata=[23,32,34,43,45,54,25,52,34,43,52,53,41,54,23]\n",
    "\n",
    "def variance(sdata):\n",
    "    c=[]\n",
    "    \n",
    "    for x in range(len(sdata)):\n",
    "        c.append((sdata[x]-pd.Series(sdata).mean())**2)\n",
    "    \n",
    "    Variance=sum(c)/(len(sdata)-1)\n",
    "    return Variance\n",
    "\n",
    "def standardDev(sdata):\n",
    "    c=[]\n",
    "    \n",
    "    for x in range(len(sdata)):\n",
    "        c.append((sdata[x]-pd.Series(sdata).mean())**2)\n",
    "    \n",
    "    Variance=sum(c)/(len(sdata)-1)\n",
    "    return (Variance)**(1/2)\n",
    "\n",
    "print(variance(sdata))\n",
    "print(standardDev(sdata) )"
   ]
  },
  {
   "cell_type": "code",
   "execution_count": null,
   "id": "dbdda73a",
   "metadata": {},
   "outputs": [],
   "source": []
  }
 ],
 "metadata": {
  "kernelspec": {
   "display_name": "Python 3 (ipykernel)",
   "language": "python",
   "name": "python3"
  },
  "language_info": {
   "codemirror_mode": {
    "name": "ipython",
    "version": 3
   },
   "file_extension": ".py",
   "mimetype": "text/x-python",
   "name": "python",
   "nbconvert_exporter": "python",
   "pygments_lexer": "ipython3",
   "version": "3.9.7"
  }
 },
 "nbformat": 4,
 "nbformat_minor": 5
}
